{
 "cells": [
  {
   "cell_type": "markdown",
   "metadata": {},
   "source": [
    "# Python 101\n",
    "\n",
    "Welcome to my tutorial of Python for beginner!\n",
    "Python is a high-level, general-purpose programming language that has been employed in Google, Facebook, and many other tech or non-tech industries for building production systems and processing data.\n"
   ]
  },
  {
   "cell_type": "markdown",
   "metadata": {},
   "source": [
    "## Hello World\n",
    "The first step of learning a new programming language is usually to learn how to print out the sentence \"hello world\" to the standard output (e.g. your monitor or screen). Printing data or information in Python is as simple as the one-line statement in the following cell."
   ]
  },
  {
   "cell_type": "code",
   "execution_count": 3,
   "metadata": {},
   "outputs": [
    {
     "name": "stdout",
     "output_type": "stream",
     "text": [
      "Hello World\n"
     ]
    }
   ],
   "source": [
    "print(\"Hello World\")"
   ]
  },
  {
   "cell_type": "markdown",
   "metadata": {},
   "source": [
    "## Data Types\n",
    "\n",
    "In Python, there is no need to declare a variable like we do in other programming languages (e.g. C/C++/Java). Instead, we have so-called \"duck-typing\", which means the Python intepreter (The program that *runs* your Python program) would inspect the value stored in the variable to determine the type of the variable in runtime, in Python."
   ]
  },
  {
   "cell_type": "code",
   "execution_count": 9,
   "metadata": {},
   "outputs": [
    {
     "name": "stdout",
     "output_type": "stream",
     "text": [
      "The type of a is <class 'int'>\n",
      "The type of b is <class 'float'>\n",
      "The type of c is <class 'complex'>\n"
     ]
    }
   ],
   "source": [
    "# a is an integer, denoted as \"int\"\n",
    "a = 1\n",
    "\n",
    "# b is a floating number (decimal representation of a number), denoted as \"float\"\n",
    "b = 2.0\n",
    "\n",
    "# c is a complex number, denoted as \"complex\"\n",
    "c = 3 + 4j\n",
    "\n",
    "\n",
    "\n",
    "\n",
    "print(\"The type of a is %s\" % type(a))\n",
    "print(\"The type of b is %s\" % type(b))\n",
    "print(\"The type of c is %s\" % type(c))\n"
   ]
  },
  {
   "cell_type": "markdown",
   "metadata": {},
   "source": [
    "Besides numerical values, Python can also manipulate strings. A string is a sequence of characters that enclosed by a pair of single or double quotes."
   ]
  },
  {
   "cell_type": "code",
   "execution_count": 11,
   "metadata": {},
   "outputs": [
    {
     "name": "stdout",
     "output_type": "stream",
     "text": [
      "The type of d is <class 'str'>\n",
      "Hello Everyone\n"
     ]
    }
   ],
   "source": [
    "d = \"Hello Everyone\"\n",
    "print(\"The type of d is %s\" % type(d))\n",
    "print(d)"
   ]
  },
  {
   "cell_type": "markdown",
   "metadata": {},
   "source": [
    "Python also supports a lot of complex data types or data structures such as set, list, dictionary, etc. We'll cover the topic of complex data types in later section."
   ]
  },
  {
   "cell_type": "code",
   "execution_count": null,
   "metadata": {},
   "outputs": [],
   "source": []
  },
  {
   "cell_type": "code",
   "execution_count": null,
   "metadata": {},
   "outputs": [],
   "source": []
  }
 ],
 "metadata": {
  "kernelspec": {
   "display_name": "Python 3",
   "language": "python",
   "name": "python3"
  },
  "language_info": {
   "codemirror_mode": {
    "name": "ipython",
    "version": 3
   },
   "file_extension": ".py",
   "mimetype": "text/x-python",
   "name": "python",
   "nbconvert_exporter": "python",
   "pygments_lexer": "ipython3",
   "version": "3.6.4"
  }
 },
 "nbformat": 4,
 "nbformat_minor": 2
}
